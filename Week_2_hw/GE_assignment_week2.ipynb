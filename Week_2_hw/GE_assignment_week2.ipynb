{
 "cells": [
  {
   "cell_type": "code",
   "execution_count": 4,
   "id": "85aa8fa3",
   "metadata": {},
   "outputs": [
    {
     "name": "stdout",
     "output_type": "stream",
     "text": [
      "Mean: 76.5\n"
     ]
    }
   ],
   "source": [
    "scores = [55 , 92 , 78 , 60 , 85 , 78 , 90 , 66 , 73 , 88]\n",
    "#Mean\n",
    "sum_of_values = 0\n",
    "for value in scores:\n",
    "    sum_of_values += value \n",
    "N = len(scores)\n",
    "mean_value = sum_of_values/N\n",
    "print(f\"Mean: {mean_value}\")\n"
   ]
  },
  {
   "cell_type": "code",
   "execution_count": 5,
   "id": "99a1ecda",
   "metadata": {},
   "outputs": [
    {
     "name": "stdout",
     "output_type": "stream",
     "text": [
      "Median: 78.0\n"
     ]
    }
   ],
   "source": [
    "#Median\n",
    "sorted_scores = sorted(scores)\n",
    "N = len(sorted_scores)\n",
    "if N % 2 == 1:\n",
    "    median_value = sorted_scores[N // 2]\n",
    "else:\n",
    "    median_value = (sorted_scores[N // 2 - 1] + sorted_scores[N // 2]) / 2\n",
    "print(f\"Median: {median_value}\")\n"
   ]
  },
  {
   "cell_type": "code",
   "execution_count": 7,
   "id": "1b2ed632",
   "metadata": {},
   "outputs": [
    {
     "name": "stdout",
     "output_type": "stream",
     "text": [
      "2 78\n"
     ]
    }
   ],
   "source": [
    "#mode\n",
    "count_dict = {}\n",
    "for x in scores:\n",
    "    if x in count_dict:\n",
    "        count_dict[x] += 1\n",
    "    else:\n",
    "        count_dict[x] = 1\n",
    "        max_count = 0\n",
    "mode_value = 0\n",
    "for x in count_dict:\n",
    "    if count_dict[x] > max_count:\n",
    "        max_count = count_dict[x]\n",
    "        mode_value = x\n",
    "print(max_count, mode_value)"
   ]
  },
  {
   "cell_type": "code",
   "execution_count": 11,
   "id": "d7bd23c8",
   "metadata": {},
   "outputs": [
    {
     "name": "stdout",
     "output_type": "stream",
     "text": [
      "Range: 37\n"
     ]
    }
   ],
   "source": [
    "minimum = min(scores)\n",
    "maximum = max(scores)\n",
    "data_range = maximum - minimum\n",
    "print(\"Range:\",data_range)"
   ]
  },
  {
   "cell_type": "code",
   "execution_count": 12,
   "id": "62b98c59",
   "metadata": {},
   "outputs": [
    {
     "name": "stdout",
     "output_type": "stream",
     "text": [
      "Variance: 148.85\n"
     ]
    }
   ],
   "source": [
    "squared_diffs = [(x - mean_value) ** 2 for x in scores]\n",
    "variance = sum(squared_diffs) / N\n",
    "print(\"Variance:\", variance)"
   ]
  },
  {
   "cell_type": "code",
   "execution_count": 13,
   "id": "3e43b3ec",
   "metadata": {},
   "outputs": [
    {
     "name": "stdout",
     "output_type": "stream",
     "text": [
      "Standard Deviation: 12.200409829181968\n"
     ]
    }
   ],
   "source": [
    "Standard_deviation = variance ** 0.5\n",
    "print(\"Standard Deviation:\", Standard_deviation)"
   ]
  },
  {
   "cell_type": "code",
   "execution_count": 1,
   "id": "f42b3f71",
   "metadata": {},
   "outputs": [
    {
     "name": "stdout",
     "output_type": "stream",
     "text": [
      "Mean: 76.5\n",
      "Median: 78.0\n",
      "Range: 37\n",
      "Population Variance: 148.85\n",
      "Population Standard Deviation: 12.200409829181968\n",
      "Mode: 78\n"
     ]
    }
   ],
   "source": [
    "import numpy as np\n",
    "from scipy import stats \n",
    "scores = np.array([55, 92, 78, 60, 85, 78, 90, 66, 73, 88])\n",
    "mean = np.mean(scores)\n",
    "median = np.median(scores)\n",
    "data_range = np.max(scores) - np.min(scores)\n",
    "variance = np.var(scores)  # Population variance\n",
    "std_dev = np.std(scores)   # Population standard deviation\n",
    "\n",
    "print(\"Mean:\", mean)\n",
    "print(\"Median:\", median)\n",
    "print(\"Range:\", data_range)\n",
    "print(\"Population Variance:\", variance)\n",
    "print(\"Population Standard Deviation:\", std_dev)\n",
    "mode_result = stats.mode(scores, keepdims=True)\n",
    "print(\"Mode:\", mode_result.mode[0])"
   ]
  },
  {
   "cell_type": "code",
   "execution_count": 3,
   "id": "7e1467cf",
   "metadata": {},
   "outputs": [
    {
     "name": "stdout",
     "output_type": "stream",
     "text": [
      "Mean Squared Error: 4.5\n"
     ]
    }
   ],
   "source": [
    "X_experience = np . array ([1 , 2 , 3 , 4 , 5 , 6 , 7 , 8]) . reshape ( -1 , 1)\n",
    "Y_salary = np . array ([45 , 50 , 60 , 65 , 75 , 80 , 90 , 95])\n",
    "y_preds = []\n",
    "for value in X_experience.flatten():\n",
    "    y_preds.append(7 * value + 40)\n",
    "error = []\n",
    "for y_actual, y_pred in zip(Y_salary, y_preds):\n",
    "    error.append((y_actual - y_pred) ** 2)\n",
    "mse = sum(error) / len(error)\n",
    "print(\"Mean Squared Error:\", mse)\n",
    "\n"
   ]
  },
  {
   "cell_type": "code",
   "execution_count": 8,
   "id": "c87a5688",
   "metadata": {},
   "outputs": [
    {
     "name": "stdout",
     "output_type": "stream",
     "text": [
      "Learned slope (m): 7.380952380952383\n",
      "Learned intercept (c): 36.78571428571428\n",
      "Mean Squared Error using sklearn: 1.4880952380952395\n",
      "R-squared score: 0.994824016563147\n"
     ]
    }
   ],
   "source": [
    "import numpy as np\n",
    "import sklearn as sk\n",
    "from sklearn.linear_model import LinearRegression\n",
    "from sklearn.metrics import mean_squared_error, r2_score\n",
    "\n",
    "X_experience = np.array([1, 2, 3, 4, 5, 6, 7, 8]).reshape(-1, 1)\n",
    "Y_salary = np.array([45, 50, 60, 65, 75, 80, 90, 95])\n",
    "model = LinearRegression()\n",
    "model.fit(X_experience, Y_salary)\n",
    "print(\"Learned slope (m):\", model.coef_[0])\n",
    "print(\"Learned intercept (c):\", model.intercept_)\n",
    "y_preds = model.predict(X_experience)\n",
    "mse = mean_squared_error(Y_salary, y_preds)\n",
    "r2 = r2_score(Y_salary, y_preds)\n",
    "print(\"Mean Squared Error using sklearn:\", mse)\n",
    "print(\"R-squared score:\", r2)"
   ]
  },
  {
   "cell_type": "code",
   "execution_count": 16,
   "id": "3046954f",
   "metadata": {},
   "outputs": [
    {
     "name": "stdout",
     "output_type": "stream",
     "text": [
      "Accuracy: 0.8\n",
      "Predicted Probabilities: ['0', '0', '0', '0', '0', '1', '1', '1', '1', '1']\n"
     ]
    }
   ],
   "source": [
    "X_prep_hours = np . array ([0.5 , 1.0 , 1.5 , 2.0 , 2.5 , 3.0 , 3.5 , 4.0 , 4.5 ,\n",
    "5.0]) \n",
    "Y_pass_fail = np . array ([0 , 0 , 0 , 0 , 1 , 0 , 1 , 1 , 1 , 1])\n",
    "z = []\n",
    "for x in X_prep_hours.flatten():\n",
    "    z.append(2 * x - 5)\n",
    "Sigmoidfunction = []\n",
    "for z_value in z:\n",
    "    sigmoid_value = 1 / (1 + np.exp(-z_value))\n",
    "    Sigmoidfunction.append(sigmoid_value)\n",
    "predicted_prob = []\n",
    "for sigmoid_value in Sigmoidfunction:\n",
    "    if (sigmoid_value > 0.5):\n",
    "        predicted_prob.append(\"1\")\n",
    "    else:\n",
    "        predicted_prob.append(\"0\")\n",
    "correctpredictions = 0\n",
    "for y_actual, y_pred in zip(Y_pass_fail, predicted_prob):\n",
    "    if y_actual == int(y_pred):\n",
    "        correctpredictions += 1\n",
    "Accuracy = correctpredictions / len(Y_pass_fail)\n",
    "print(\"Accuracy:\", Accuracy)\n",
    "print(\"Predicted Probabilities:\", predicted_prob)\n",
    "\n"
   ]
  },
  {
   "cell_type": "code",
   "execution_count": 19,
   "id": "71cbff6f",
   "metadata": {},
   "outputs": [
    {
     "name": "stdout",
     "output_type": "stream",
     "text": [
      "Coefficients: [[1.22396473]]\n",
      "Intercept: [-3.36638058]\n",
      "Probabilities of passing for each hour studied:\n",
      "[[0.94016126 0.05983874]\n",
      " [0.89495794 0.10504206]\n",
      " [0.82206973 0.17793027]\n",
      " [0.71472641 0.28527359]\n",
      " [0.57602309 0.42397691]\n",
      " [0.42421019 0.57578981]\n",
      " [0.28546838 0.71453162]\n",
      " [0.17807002 0.82192998]\n",
      " [0.10513189 0.89486811]\n",
      " [0.05989249 0.94010751]]\n",
      "Accuracy of the model: 0.8\n"
     ]
    }
   ],
   "source": [
    "import numpy as np\n",
    "from sklearn.linear_model import LogisticRegression\n",
    "from sklearn.metrics import accuracy_score\n",
    "model = LogisticRegression()\n",
    "X_prep_hours = np . array ([0.5 , 1.0 , 1.5 , 2.0 , 2.5 , 3.0 , 3.5 , 4.0 , 4.5 ,\n",
    "5.0]) . reshape ( -1 , 1)\n",
    "Y_pass_fail = np . array ([0 , 0 , 0 , 0 , 1 , 0 , 1 , 1 , 1 , 1])\n",
    "model.fit(X_prep_hours, Y_pass_fail)\n",
    "y_pred = model.predict(X_prep_hours)\n",
    "y_pred\n",
    "coefficients = model.coef_\n",
    "intercept = model.intercept_\n",
    "print(\"Coefficients:\", coefficients)\n",
    "print(\"Intercept:\", intercept)\n",
    "probabilities = model.predict_proba(X_prep_hours)\n",
    "print(\"Probabilities of passing for each hour studied:\")\n",
    "print(probabilities)\n",
    "acc = accuracy_score(Y_pass_fail, y_pred)\n",
    "print(\"Accuracy of the model:\", acc)"
   ]
  },
  {
   "cell_type": "code",
   "execution_count": 27,
   "id": "58438ef1",
   "metadata": {},
   "outputs": [
    {
     "name": "stdout",
     "output_type": "stream",
     "text": [
      "Cluster 1 Points: [array([ 2, 10]), array([5, 8]), array([4, 9])]\n",
      "Cluster 2 Points: [array([2, 5]), array([8, 4]), array([7, 5]), array([6, 4]), array([1, 2])]\n",
      "New Centroid C1: [np.float64(3.6666666666666665), np.float64(9.0)]\n",
      "New Centroid C2: [np.float64(4.8), np.float64(4.0)]\n",
      "New Cluster 1 Points: [array([ 2, 10]), array([5, 8]), array([4, 9])]\n",
      "New Cluster 2 Points: [array([2, 5]), array([8, 4]), array([7, 5]), array([6, 4]), array([1, 2])]\n"
     ]
    }
   ],
   "source": [
    "X_cluster_data = np . array ([\n",
    " [2 , 10] , [2 , 5] , [8 , 4] , [5 , 8] , [7 , 5] , [6 , 4] , [1 , 2] , [4 , 9]\n",
    "])\n",
    "import math\n",
    "C1= np . array ([2 , 10])\n",
    "C2= np . array ([2 , 5])\n",
    "d= []\n",
    "for x in X_cluster_data:\n",
    "    d.append(math.sqrt((x[0] - C1[0]) ** 2 + (x[1] - C1[1])**2)) \n",
    "d1 = []\n",
    "for x in X_cluster_data:\n",
    "    d1.append(math.sqrt((x[0] - C2[0]) ** 2 + (x[1] - C2[1])**2))\n",
    "C1_points = []\n",
    "C2_points = []\n",
    "for i, x in enumerate(X_cluster_data):\n",
    "    if d[i] < d1[i]:\n",
    "        C1_points.append(x)\n",
    "    else:\n",
    "        C2_points.append(x)\n",
    "print(\"Cluster 1 Points:\", C1_points)\n",
    "print(\"Cluster 2 Points:\", C2_points)\n",
    "def mean_point(points):\n",
    "    x_sum = sum([p[0] for p in points])\n",
    "    y_sum = sum([p[1] for p in points])\n",
    "    count = len(points)\n",
    "    return [x_sum / count, y_sum / count]\n",
    "C1_new = mean_point(C1_points)\n",
    "C2_new = mean_point(C2_points)\n",
    "print(\"New Centroid C1:\", C1_new)\n",
    "print(\"New Centroid C2:\", C2_new)\n",
    "b= []\n",
    "for x in X_cluster_data:\n",
    "    b.append(math.sqrt((x[0] - C1_new[0]) ** 2 + (x[1] - C1_new[1])**2)) \n",
    "b1 = []\n",
    "for x in X_cluster_data:\n",
    "    b1.append(math.sqrt((x[0] - C2_new[0]) ** 2 + (x[1] - C2_new[1])**2))\n",
    "C1_new_points = []\n",
    "C2_new_points = []\n",
    "for i, x in enumerate(X_cluster_data):\n",
    "\n",
    "    if b[i] < b1[i]:\n",
    "        C1_new_points.append(x)\n",
    "    else:\n",
    "        C2_new_points.append(x)\n",
    "print(\"New Cluster 1 Points:\", C1_new_points)\n",
    "print(\"New Cluster 2 Points:\", C2_new_points)"
   ]
  },
  {
   "cell_type": "code",
   "execution_count": 2,
   "id": "f2c9029c",
   "metadata": {},
   "outputs": [
    {
     "name": "stderr",
     "output_type": "stream",
     "text": [
      "c:\\BHRIGU\\ashoka\\New folder\\envs\\horizons25\\Lib\\site-packages\\sklearn\\cluster\\_kmeans.py:1419: UserWarning: KMeans is known to have a memory leak on Windows with MKL, when there are less chunks than available threads. You can avoid it by setting the environment variable OMP_NUM_THREADS=1.\n",
      "  warnings.warn(\n"
     ]
    },
    {
     "name": "stdout",
     "output_type": "stream",
     "text": [
      "Final Centroids:\n",
      " [[5.5  3.75]\n",
      " [3.25 8.  ]]\n",
      "Cluster Labels: [1 1 0 1 0 0 0 1]\n"
     ]
    },
    {
     "data": {
      "image/png": "[encoded data removed]",
      "text/plain": [
       "<Figure size 640x480 with 1 Axes>"
      ]
     },
     "metadata": {},
     "output_type": "display_data"
    }
   ],
   "source": [
    "import numpy as np\n",
    "from sklearn.cluster import KMeans\n",
    "import matplotlib.pyplot as plt\n",
    "X_cluster_data = np.array([\n",
    "    [2, 10], [2, 5], [8, 4], [5, 8], [7, 5], [6, 4], [1, 2], [4, 9]\n",
    "])\n",
    "\n",
    "X_cluster_data = np.array([\n",
    "    [2, 10], [2, 5], [8, 4], [5, 8], [7, 5], [6, 4], [1, 2], [4, 9]\n",
    "])\n",
    "kmeans = KMeans(n_clusters=2, random_state=42, n_init='auto')\n",
    "kmeans.fit(X_cluster_data)\n",
    "final_centroids = kmeans.cluster_centers_\n",
    "labels = kmeans.labels_\n",
    "\n",
    "print(\"Final Centroids:\\n\", final_centroids)\n",
    "print(\"Cluster Labels:\", labels)\n",
    "\n",
    "plt.scatter(X_cluster_data[:, 0], X_cluster_data[:, 1], c=labels, cmap='viridis', marker='o')\n",
    "plt.scatter(final_centroids[:, 0], final_centroids[:, 1], c='red', marker='X', s=200, label='Centroids')\n",
    "plt.title('K-Means Clustering (K=2)')\n",
    "plt.xlabel('X')\n",
    "plt.ylabel('Y')\n",
    "plt.legend()\n",
    "plt.show()\n"
   ]
  }
 ],
 "metadata": {
  "kernelspec": {
   "display_name": "horizons25",
   "language": "python",
   "name": "python3"
  },
  "language_info": {
   "codemirror_mode": {
    "name": "ipython",
    "version": 3
   },
   "file_extension": ".py",
   "mimetype": "text/x-python",
   "name": "python",
   "nbconvert_exporter": "python",
   "pygments_lexer": "ipython3",
   "version": "3.11.11"
  }
 },
 "nbformat": 4,
 "nbformat_minor": 5
}
